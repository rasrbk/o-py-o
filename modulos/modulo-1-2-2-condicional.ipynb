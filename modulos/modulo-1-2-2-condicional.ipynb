{
  "cells": [
    {
      "cell_type": "markdown",
      "metadata": {
        "id": "_fSYgt9JKmg9"
      },
      "source": [
        "<img src=\"https://github.com/rasrbk/o-py-o/blob/master/imagens/3.png?raw=1\">\n",
        "\n",
        "## Revisando o conteúdo da semana!"
      ]
    },
    {
      "cell_type": "markdown",
      "metadata": {
        "id": "ICHC_G5qKmg_"
      },
      "source": [
        "1) Faça um algoritmo que solicite a entrada de um número e exiba o dia da semana correspondente (1-Domingo, 2- Segunda,...,7-Sábado), se receber um outro valor a mensagem \"Valor inválido\" deverá ser exibida."
      ]
    },
    {
      "cell_type": "code",
      "execution_count": 10,
      "metadata": {
        "id": "0os9EZylKmg_",
        "outputId": "55a21a51-40be-48fb-9ae0-c6d632762ea4",
        "colab": {
          "base_uri": "https://localhost:8080/"
        }
      },
      "outputs": [
        {
          "output_type": "stream",
          "name": "stdout",
          "text": [
            "Insira o valor do dia da semana: 9\n",
            "valor inválido\n"
          ]
        }
      ],
      "source": [
        "dia = int(input('Insira o valor do dia da semana: '))\n",
        "\n",
        "if dia == 1: \n",
        "  print(\"Domingo\")\n",
        "elif dia == 2: \n",
        "  print(\"Segunda-feira\")\n",
        "elif dia == 3: \n",
        "  print(\"Terça-feira\")\n",
        "elif dia == 4: \n",
        "  print(\"Quarta-feira\")\n",
        "elif dia == 5: \n",
        "  print(\"Quinta-feira\")\n",
        "elif dia == 6:\n",
        "  print(\"Sexta-feira\")\n",
        "elif dia == 7:\n",
        "  print(\"Sábado\")\n",
        "else: \n",
        "  print(\"valor inválido\")"
      ]
    },
    {
      "cell_type": "markdown",
      "metadata": {
        "id": "mK2mND3RKmhA"
      },
      "source": [
        "2) Faça um algoritmo que pergunte a usuária em que ano ela nasceu e, caso ela seja maior de idade, imprima em que ano ela fez 18 anos. Caso ela seja menor de idade, imprima em qual ano ela completará 18 anos. \n",
        "\n",
        "Pra deixar a saída mais fácil de entender utilize mensagens como: **\"Você fez 18 anos em: \"**, **\"Você completará 18 anos em: \"**."
      ]
    },
    {
      "cell_type": "code",
      "execution_count": 26,
      "metadata": {
        "id": "xvLZjnLPKmhA",
        "outputId": "fedee2bf-ef2c-44cb-92ba-6b257477bbb7",
        "colab": {
          "base_uri": "https://localhost:8080/"
        }
      },
      "outputs": [
        {
          "output_type": "stream",
          "name": "stdout",
          "text": [
            " Em que ano você nasceu?2030\n",
            "você fará 18 anos em 2048\n"
          ]
        }
      ],
      "source": [
        "Ano_nasc = int(input(\" Em que ano você nasceu?\" ))\n",
        "if Ano_nasc >= 2004:\n",
        "  Ano_menor = Ano_nasc + 18 #variavel para guardar ano que fará 18\n",
        "  print(\"você fará 18 anos em \" + str(Ano_menor))\n",
        "elif Ano_nasc < 2004: \n",
        "  Ano_maior = Ano_nasc + 18\n",
        "  print(\"você fez 18 anos em \" + str(Ano_maior))"
      ]
    },
    {
      "cell_type": "markdown",
      "metadata": {
        "id": "moE-EJWPKmhA"
      },
      "source": [
        "3) Faça um algoritmo que solicite as 3 notas da usuária, calcule a média e indique se a aluna foi aprovada ou reprovada (nota precisar ser **maior ou igual** à 7 para a aluna ser aprovada)."
      ]
    },
    {
      "cell_type": "code",
      "execution_count": 45,
      "metadata": {
        "id": "Wc3S0KNSKmhB",
        "outputId": "3548924f-4e59-4f23-e31b-196b2419d6c6",
        "colab": {
          "base_uri": "https://localhost:8080/"
        }
      },
      "outputs": [
        {
          "output_type": "stream",
          "name": "stdout",
          "text": [
            "Insira sua primeira nota: 50\n",
            "Insira sua segunda nota: 6\n",
            "Insira sua terceira nota: 40\n",
            "insira valores entre 0 e 10\n"
          ]
        }
      ],
      "source": [
        "nota1 = float(input(\"Insira sua primeira nota: \"))\n",
        "nota2 = float(input(\"Insira sua segunda nota: \"))\n",
        "nota3 = float(input(\"Insira sua terceira nota: \"))\n",
        "media = (nota1 + nota2 + nota3)/3\n",
        "if media < 7:\n",
        "  print(\"você foi reprovada\")\n",
        "  print(\"sua media: \" + str(media))\n",
        "elif media >= 7 and media <= 10:\n",
        "  print(\"você foi aprovada\")\n",
        "else:\n",
        "  print(\"insira valores entre 0 e 10\") #testa se há valores muito altos"
      ]
    },
    {
      "cell_type": "markdown",
      "metadata": {
        "id": "l2paBM-zKmhB"
      },
      "source": [
        "4) Faça um algoritmo que pergunte a idade da usuária e depois disso exiba a classificação etária de acordo com as faixas de valores:\n",
        "    \n",
        "- Criança para 0 até 11 anos;\n",
        "- Adolescente para 12 até 18 anos;\n",
        "- Jovem para 19 até 24 anos;\n",
        "- Adulto para 25 até 40 anos;\n",
        "- Meia Idade para 41 até 60 anos;\n",
        "- Idoso acima de 60 anos."
      ]
    },
    {
      "cell_type": "code",
      "execution_count": 55,
      "metadata": {
        "id": "eFPXCGyTKmhB",
        "outputId": "4ce0b3f9-e428-4789-e858-62a7e3d67c75",
        "colab": {
          "base_uri": "https://localhost:8080/"
        }
      },
      "outputs": [
        {
          "output_type": "stream",
          "name": "stdout",
          "text": [
            "Qual sua idade? 5\n",
            "você é criança\n"
          ]
        }
      ],
      "source": [
        "idade = int(input(\"Qual sua idade? \"))\n",
        "if idade > 0 and idade < 12:\n",
        "  print(\"você é criança\")\n",
        "elif idade > 11 and idade < 19:\n",
        "  print(\"você é adolescente\")\n",
        "elif idade > 18 and idade < 25:\n",
        "  print(\"você é Jovem\")\n",
        "elif idade > 24 and idade < 41:\n",
        "  print(\"você é Adulto\")\n",
        "elif idade > 40 and idade < 61:\n",
        "  print(\"você está na Meia Idade\")\n",
        "elif idade > 60:\n",
        "  print(\"você é idoso\")\n",
        "else:\n",
        "  print(\"valor inválido\")"
      ]
    },
    {
      "cell_type": "markdown",
      "metadata": {
        "id": "jmKJfVKFKmhC"
      },
      "source": [
        "> ##### Você sabe como Python diferencia \"PyLadies\" de \"Pyladies\"? Dá só uma olhada nisso: [Comparação de Strings em Python - eXcript](http://excript.com/python/comparacao-de-string-python.html)"
      ]
    },
    {
      "cell_type": "markdown",
      "metadata": {
        "id": "-9H2TRsiKmhC"
      },
      "source": [
        "4) Faça um programa que solicite a entrada de dois nomes e imprima uma mensagem informando se eles são iguais ou não.\n",
        "\n",
        "\n",
        "> ##### Dica: cuidado com o int no `input()`"
      ]
    },
    {
      "cell_type": "code",
      "execution_count": 57,
      "metadata": {
        "id": "0GXoG2wxKmhD",
        "outputId": "17ff39ea-5a5b-4d31-a898-b0d614b7f068",
        "colab": {
          "base_uri": "https://localhost:8080/"
        }
      },
      "outputs": [
        {
          "output_type": "stream",
          "name": "stdout",
          "text": [
            "Informe o primeiro nome: maria\n",
            "Informe o segundo nome: maria\n",
            "Nomes iguais\n"
          ]
        }
      ],
      "source": [
        "#dá pra comparar strings sem drama =o \n",
        "primeiroNome = input('Informe o primeiro nome: ')\n",
        "segundoNome = input('Informe o segundo nome: ')\n",
        "\n",
        "if primeiroNome == segundoNome:\n",
        "  print('Nomes iguais')\n",
        "else: \n",
        "  print('\\n Nomes diferentes')"
      ]
    },
    {
      "cell_type": "markdown",
      "metadata": {
        "id": "1uiT7dtSKmhD"
      },
      "source": [
        "---\n",
        "\n",
        "## Quais são as outras formas de praticar esses conceitos?\n",
        "\n",
        "<img src=\"https://media.giphy.com/media/LqZZp4y9ANZIcQzuXC/giphy.gif\" align=\"left\">"
      ]
    },
    {
      "cell_type": "code",
      "execution_count": null,
      "metadata": {
        "id": "13spNpbfKmhD"
      },
      "outputs": [],
      "source": [
        "<Adicionar atividade de sua preferência para aplicação dos conceitos>"
      ]
    }
  ],
  "metadata": {
    "kernelspec": {
      "display_name": "Python 3",
      "language": "python",
      "name": "python3"
    },
    "language_info": {
      "codemirror_mode": {
        "name": "ipython",
        "version": 3
      },
      "file_extension": ".py",
      "mimetype": "text/x-python",
      "name": "python",
      "nbconvert_exporter": "python",
      "pygments_lexer": "ipython3",
      "version": "3.8.5"
    },
    "colab": {
      "provenance": []
    }
  },
  "nbformat": 4,
  "nbformat_minor": 0
}