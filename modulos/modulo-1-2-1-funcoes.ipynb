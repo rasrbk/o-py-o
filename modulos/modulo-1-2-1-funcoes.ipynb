{
  "cells": [
    {
      "cell_type": "markdown",
      "metadata": {
        "id": "xflIwLaRGI67"
      },
      "source": [
        "<img src=\"https://github.com/rasrbk/o-py-o/blob/master/imagens/2.png?raw=1\">\n",
        "\n",
        "## Revisando o conteúdo da semana!"
      ]
    },
    {
      "cell_type": "markdown",
      "metadata": {
        "id": "1xr9pN3GGI69"
      },
      "source": [
        "Um objeto de função é um valor que pode ser atribuído a uma variável ou passado como argumento. Por exemplo, `print_contact` é uma função que recebe como parâmetro dois objetos de funções chamados `fRegister` e `fTimeRegister`.\n",
        "As funções `fRegister` e `fTimeRegister` foram feitas para imprimir os dados de um contato e imprimir a data na qual aquele contato foi cadastrado, da uma olhadinha na definição delas:"
      ]
    },
    {
      "cell_type": "code",
      "execution_count": 21,
      "metadata": {
        "id": "4YSvOmP-GI6_"
      },
      "outputs": [],
      "source": [
        "def print_register():\n",
        "    print('***** Dados do contato: *****')\n",
        "    print('Nome: ', name)\n",
        "    print('Email: ', email)\n",
        "    print('Endereço: ', adress)\n",
        "    print('Ano de nascimento: ', birthYear)\n",
        "    print('niver = ', niver)"
      ]
    },
    {
      "cell_type": "code",
      "execution_count": 22,
      "metadata": {
        "id": "E-8T4mzwGI7A"
      },
      "outputs": [],
      "source": [
        "def print_update():\n",
        "    print('Atualizado em: ', updated)"
      ]
    },
    {
      "cell_type": "code",
      "execution_count": 23,
      "metadata": {
        "id": "R8cAfl1CGI6-"
      },
      "outputs": [],
      "source": [
        "def print_contact(fRegister, fTimeRegister):\n",
        "    fRegister()\n",
        "    fTimeRegister()\n"
      ]
    },
    {
      "cell_type": "markdown",
      "metadata": {
        "id": "pXFGUlhcGI7A"
      },
      "source": [
        "1) O que acontece se você tentar executar diretamente `print_contact()`? "
      ]
    },
    {
      "cell_type": "code",
      "execution_count": 106,
      "metadata": {
        "colab": {
          "base_uri": "https://localhost:8080/",
          "height": 166
        },
        "id": "wQam6onCGI7A",
        "outputId": "8009727e-b047-4730-e263-0b2c4ad8a03f"
      },
      "outputs": [
        {
          "output_type": "error",
          "ename": "TypeError",
          "evalue": "ignored",
          "traceback": [
            "\u001b[0;31m---------------------------------------------------------------------------\u001b[0m",
            "\u001b[0;31mTypeError\u001b[0m                                 Traceback (most recent call last)",
            "\u001b[0;32m<ipython-input-106-3a274d09317d>\u001b[0m in \u001b[0;36m<module>\u001b[0;34m\u001b[0m\n\u001b[0;32m----> 1\u001b[0;31m \u001b[0mprint_contact\u001b[0m\u001b[0;34m(\u001b[0m\u001b[0;34m)\u001b[0m\u001b[0;34m\u001b[0m\u001b[0;34m\u001b[0m\u001b[0m\n\u001b[0m",
            "\u001b[0;31mTypeError\u001b[0m: print_contact() missing 2 required positional arguments: 'fRegister' and 'fTimeRegister'"
          ]
        }
      ],
      "source": [
        "print_contact()"
      ]
    },
    {
      "cell_type": "markdown",
      "metadata": {
        "id": "tf1sX10iGI7A"
      },
      "source": [
        "2) O que você precisa fazer para `print_contact` funcione corretamente?\n",
        "\n",
        "> ##### Dica: preste atenção nas mensagens de erro, elas são ótimas guias!"
      ]
    },
    {
      "cell_type": "code",
      "execution_count": 24,
      "metadata": {
        "colab": {
          "base_uri": "https://localhost:8080/"
        },
        "id": "nKnIfXq2GI7B",
        "outputId": "141a848b-b731-460f-f764-5a197049a01b"
      },
      "outputs": [
        {
          "output_type": "stream",
          "name": "stdout",
          "text": [
            "***** Dados do contato: *****\n",
            "Nome:  maria\n",
            "Email:  maria@gmail.com\n",
            "Endereço:  rua A, n2\n",
            "Ano de nascimento:  1995\n",
            "niver =  15-04\n",
            "Atualizado em:  15-05-2005\n"
          ]
        }
      ],
      "source": [
        "# é necessário atribuir valores para as variáveis antes de 'chamar' a função\n",
        "name='maria'\n",
        "email='maria@gmail.com'\n",
        "adress='rua A, n2'\n",
        "birthYear='1995'\n",
        "updated='15-05-2005'\n",
        "niver = '15-04'\n",
        "print_contact(print_register,print_update)"
      ]
    },
    {
      "cell_type": "code",
      "source": [
        "def print_register_v2():\n",
        "    print('***** Dados do contato: *****')\n",
        "    print('Nome: ', name)\n",
        "    print('Email: ', email)\n",
        "    print('Endereço: ', adress)\n",
        "    print('Ano de nascimento: ', birthYear)\n",
        "    print('Data de aniversário: ', niver)"
      ],
      "metadata": {
        "id": "-WRj91L-rQTO"
      },
      "execution_count": 25,
      "outputs": []
    },
    {
      "cell_type": "code",
      "source": [
        "print_register_v2()"
      ],
      "metadata": {
        "colab": {
          "base_uri": "https://localhost:8080/"
        },
        "id": "nSD60Zmcrnnv",
        "outputId": "8a9467fa-3cfd-41ec-98e2-259139b568a9"
      },
      "execution_count": 26,
      "outputs": [
        {
          "output_type": "stream",
          "name": "stdout",
          "text": [
            "***** Dados do contato: *****\n",
            "Nome:  maria\n",
            "Email:  maria@gmail.com\n",
            "Endereço:  rua A, n2\n",
            "Ano de nascimento:  1995\n",
            "Data de aniversário:  15-04\n"
          ]
        }
      ]
    },
    {
      "cell_type": "markdown",
      "metadata": {
        "id": "BHv-NRtSGI7B"
      },
      "source": [
        "3) Faça as mudanças necessárias para imprimir a **\"Data de aniversário\"** ao invés do **\"Ano de Nascimento\"**."
      ]
    },
    {
      "cell_type": "code",
      "execution_count": 29,
      "metadata": {
        "colab": {
          "base_uri": "https://localhost:8080/"
        },
        "id": "1JKKqAfTGI7B",
        "outputId": "442bc742-c1a2-4203-9168-c61d2a2246da"
      },
      "outputs": [
        {
          "output_type": "stream",
          "name": "stdout",
          "text": [
            "***** Dados do contato: *****\n",
            "Nome:  maria\n",
            "Email:  maria@gmail.com\n",
            "Endereço:  rua A, n2\n",
            "Ano de nascimento:  1995\n",
            "Data de aniversário:  15-04\n"
          ]
        }
      ],
      "source": [
        "def print_register_v2():\n",
        "    print('***** Dados do contato: *****')\n",
        "    print('Nome: ', name)\n",
        "    print('Email: ', email)\n",
        "    print('Endereço: ', adress)\n",
        "    print('Ano de nascimento: ', birthYear)\n",
        "    print('Data de aniversário: ', niver)\n",
        "print_register_v2()"
      ]
    },
    {
      "cell_type": "markdown",
      "metadata": {
        "id": "byFOvnDDGI7C"
      },
      "source": [
        "Você conhece a função `input()`? Execute o código abaixo pra saber como ela funciona:\n",
        "\n",
        "> ##### Dica: depois de digitar o valor desejado tecle enter"
      ]
    },
    {
      "cell_type": "code",
      "execution_count": 43,
      "metadata": {
        "colab": {
          "base_uri": "https://localhost:8080/"
        },
        "id": "cmWSyeawGI7C",
        "outputId": "37c5f669-546f-4031-f3bf-8c1fa0cec712"
      },
      "outputs": [
        {
          "output_type": "stream",
          "name": "stdout",
          "text": [
            "Entre com o 1º valor: 5\n",
            "Entre com o 2º valor: 8\n",
            "A soma é 13\n"
          ]
        }
      ],
      "source": [
        "num1 = input('Entre com o 1º valor: ')\n",
        "\n",
        "num2 = input('Entre com o 2º valor: ')\n",
        "\n",
        "soma = int(num1) + int(num2)\n",
        "\n",
        "print(\"A soma é\", soma)"
      ]
    },
    {
      "cell_type": "markdown",
      "metadata": {
        "id": "Y9MfP4AFGI7C"
      },
      "source": [
        "> ##### Saiba mais sobre `input()` no tutorial [Função input e print no Python: Entrada e Saída de dados](https://pythonacademy.com.br/blog/input-e-print-entrada-e-saida-de-dados-no-python)"
      ]
    },
    {
      "cell_type": "markdown",
      "metadata": {
        "id": "FrgHo0YtGI7D"
      },
      "source": [
        "4) Agora que você ja sabe como `input()` funciona, faça uma função que solicite 4 notas e mostre a média."
      ]
    },
    {
      "cell_type": "code",
      "execution_count": 139,
      "metadata": {
        "colab": {
          "base_uri": "https://localhost:8080/"
        },
        "id": "CDKLjWlTGI7D",
        "outputId": "d0b6fca7-9e5c-4f5e-864e-033712f038aa"
      },
      "outputs": [
        {
          "output_type": "stream",
          "name": "stdout",
          "text": [
            "Entre com o 1º valor: 5\n",
            "Entre com o 2º valor: 5\n",
            "Entre com o 3º valor: 4\n",
            "Entre com o 4º valor: 4\n",
            "A media é 4.5\n"
          ]
        }
      ],
      "source": [
        "def calcula_media():\n",
        "  num1 = input('Entre com o 1º valor: ')\n",
        "  num2 = input('Entre com o 2º valor: ')\n",
        "  num3 = input('Entre com o 3º valor: ')\n",
        "  num4 = input('Entre com o 4º valor: ')\n",
        "  media = (float(num1) + float(num2) + float(num3) + float(num4))/4\n",
        "  return media\n",
        "\n",
        "print(\"A media é \" + str(calcula_media()))\n",
        "\n"
      ]
    },
    {
      "cell_type": "markdown",
      "metadata": {
        "id": "AV3sHra6GI7D"
      },
      "source": [
        "---\n",
        "\n",
        "## Quais são as outras formas de praticar esses conceitos?\n",
        "\n",
        "<img src=\"https://media1.tenor.com/images/325243df1673b884f9a044797c1cfd00/tenor.gif\" align=\"left\">"
      ]
    },
    {
      "cell_type": "markdown",
      "metadata": {
        "id": "VAWtdFPMGI7D"
      },
      "source": [
        "<Adicionar atividade de sua preferência para aplicação dos conceitos>"
      ]
    }
  ],
  "metadata": {
    "kernelspec": {
      "display_name": "Python 3",
      "language": "python",
      "name": "python3"
    },
    "language_info": {
      "codemirror_mode": {
        "name": "ipython",
        "version": 3
      },
      "file_extension": ".py",
      "mimetype": "text/x-python",
      "name": "python",
      "nbconvert_exporter": "python",
      "pygments_lexer": "ipython3",
      "version": "3.8.5"
    },
    "colab": {
      "provenance": []
    }
  },
  "nbformat": 4,
  "nbformat_minor": 0
}