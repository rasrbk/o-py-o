{
  "cells": [
    {
      "cell_type": "markdown",
      "metadata": {
        "id": "5JGRs0h8duYD"
      },
      "source": [
        "<img src=\"https://github.com/rasrbk/o-py-o/blob/master/imagens/4.png?raw=1\">\n",
        "\n",
        "## Revisando o conteúdo da semana!"
      ]
    },
    {
      "cell_type": "markdown",
      "metadata": {
        "id": "pvvyeIYMduYE"
      },
      "source": [
        "1) Faça um programa que leia um nome de usuário e a sua senha e não aceite a senha igual ao nome do usuário, mostrando uma mensagem de erro e voltando a pedir as informações."
      ]
    },
    {
      "cell_type": "code",
      "execution_count": null,
      "metadata": {
        "id": "Rw1LRbtTduYF"
      },
      "outputs": [],
      "source": [
        "nome = input(\"Insira seu nome: \")\n",
        "senha = input(\"Insira uma senha: \")\n",
        "while senha == nome:\n",
        "  print(\"Sua senha deve ser diferente do seu nome \")\n",
        "  print(input(\"Por favor, insira nova senha: \"))\n",
        "  print(\"Nova senha salva\")\n",
        "  break\n",
        "else:\n",
        "  print(\"Senha salva\")"
      ]
    },
    {
      "cell_type": "markdown",
      "metadata": {
        "id": "_UKH-sJkduYG"
      },
      "source": [
        "2) Há um método disponível nas variáveis do tipo **string** chamado `count`. Ele recebe uma string como parâmetro e tem como objetivo contar quantas vezes esse parâmetro aparece na string original onde ele está sendo chamado. Ou seja, se eu quiser contar quantas vezes a letra **\"a\"** aparece em **\"banana\"** eu posso fazer algo como:\n",
        "```python\n",
        "fruta = 'banana'\n",
        "fruta.count(a)\n",
        "```\n",
        "\n",
        "E isso vai me dar o resultado 3. Não acredita? Testa ai! "
      ]
    },
    {
      "cell_type": "code",
      "execution_count": null,
      "metadata": {
        "id": "lfmenqNRduYH"
      },
      "outputs": [],
      "source": [
        "fruta = 'banana'\n",
        "fruta.count('a')"
      ]
    },
    {
      "cell_type": "markdown",
      "metadata": {
        "id": "jTOpslsTduYH"
      },
      "source": [
        "Pois agora que sabemos disso, é chegado o momento de descobrimos quantos **\"e's\"** existem em [Prefixo de Verão ](https://www.youtube.com/watch?v=CObCy8qduuo&ab_channel=FunkeirodaZonaSul) música da maravilhosa Banda Mel. \n",
        "\n",
        "Eu vou deixar a string já montada aqui e você faz o resto beleza?!"
      ]
    },
    {
      "cell_type": "code",
      "execution_count": 1,
      "metadata": {
        "id": "feoE7jXyduYH",
        "outputId": "c605ef6f-223d-4702-f006-afe61406976f",
        "colab": {
          "base_uri": "https://localhost:8080/"
        }
      },
      "outputs": [
        {
          "output_type": "execute_result",
          "data": {
            "text/plain": [
              "40"
            ]
          },
          "metadata": {},
          "execution_count": 1
        }
      ],
      "source": [
        "musica = 'Ae, ae, ae, ae \\\n",
        "Ei, ei, ei, ei \\\n",
        "Oô, oô, oô, oô, oô, oô, o \\\n",
        " \\\n",
        "Quando você chegar \\\n",
        "Quando você chegar \\\n",
        "Quando você chegar \\\n",
        "Numa nova estação \\\n",
        "Te espero no verão \\\n",
        " \\\n",
        "Salve, salvador \\\n",
        "Me bato, me quebro tudo por amor \\\n",
        "Eu sou do pelô \\\n",
        "O negro é raça é fruto do amor \\\n",
        "Salve, salvador \\\n",
        "Me bato, me quebro tudo por amor \\\n",
        "Eu sou do pelô \\\n",
        " \\\n",
        "Ae, ae, ae, ae \\\n",
        "Ei, ei, ei, ei \\\n",
        "Oô, oô, oô, oô, oô, oô, o \\\n",
        " \\\n",
        "Ae, ae, ae, ae \\\n",
        "Ei, ei, ei, ei \\\n",
        "Oô, oô, o' \n",
        "musica.count('e' or 's')"
      ]
    },
    {
      "cell_type": "markdown",
      "metadata": {
        "id": "t0mbue3QduYJ"
      },
      "source": [
        "> ##### Você tem alguma ideia de como fazer essa contagem sem usar o count()?"
      ]
    },
    {
      "cell_type": "markdown",
      "metadata": {
        "id": "AR7MI2vQduYJ"
      },
      "source": [
        "3) Faça um programa que leia 5 números e informe o maior número."
      ]
    },
    {
      "cell_type": "code",
      "execution_count": null,
      "metadata": {
        "id": "rkUk-cWDduYK"
      },
      "outputs": [],
      "source": [
        "m = 0 #é uma variável 'vazia', que usa pra colocar o 'maior' no teste atual\n",
        "n1 = int(input(\"Insira n1: \"))\n",
        "n2 = int(input(\"Insira n2: \"))\n",
        "n3 = int(input(\"Insira n3: \"))\n",
        "n4 = int(input(\"Insira n4: \"))\n",
        "n5 = int(input(\"Insira n5: \"))\n",
        "lista = [n1,n2,n3,n4,n5] #lista de valores possíveis\n",
        "for x in lista: #'para' x (x é uma variável do proprio for que serve para colocar cada valor (ns) da lista em sequencia) \n",
        "  if x > m: # testa 'se' x (a 1ª variavel do for, q tb é a da 1ª posicao na 'lista') é maior que o valor colocado na variavel 'm'\n",
        "    m = x #se x estiver mesmo maior q m, então o valor de m será substituido pelo de x, para voltar e textar com o próximo item\n",
        "#obs: o valor de m só é atualizado pelo de x se x for de fato maior que m; caso n seja, m não é substituido por x e sai do lado de repetição\n",
        "print(m) #retorna o último valor de m q atendia a condicional x > m"
      ]
    },
    {
      "cell_type": "markdown",
      "metadata": {
        "id": "FUB5r3WJduYK"
      },
      "source": [
        "4) Faça um programa que receba dois números inteiros e gere os números inteiros que estão no intervalo compreendido por eles.\n"
      ]
    },
    {
      "cell_type": "code",
      "execution_count": null,
      "metadata": {
        "id": "p0KOds0LduYK"
      },
      "outputs": [],
      "source": [
        "n1 = int(input(\"Insira n1: \"))\n",
        "n2 = int(input(\"Insira n2: \"))\n",
        "lista = [n1, n2]\n",
        "contador = 0\n",
        "for x in lista:\n",
        "  contador = x\n",
        "  while contador < (n2-1): #é n2-1 pq quero o numero imediatamente anterior ao n2 e não o n2 em si\n",
        "    contador = contador+1\n",
        "    print(contador)"
      ]
    },
    {
      "cell_type": "markdown",
      "metadata": {
        "id": "G2OvzfdIduYK"
      },
      "source": [
        "5) Altere o programa anterior para mostrar no final a soma dos números."
      ]
    },
    {
      "cell_type": "code",
      "execution_count": null,
      "metadata": {
        "id": "rV11SihiduYL"
      },
      "outputs": [],
      "source": [
        "n1 = int(input(\"Insira n1: \"))\n",
        "n2 = int(input(\"Insira n2: \"))\n",
        "lista = [n1, n2]\n",
        "contador = 0\n",
        "for x in lista:\n",
        "  contador = x + contador\n",
        "print(contador)"
      ]
    },
    {
      "cell_type": "markdown",
      "metadata": {
        "id": "qS4wgtBaduYL"
      },
      "source": [
        "6) Faça um programa que exiba as tabuadas de 1 até 10 no formato: \"2 x 3 = 6\", (utilize dois comandos for)"
      ]
    },
    {
      "cell_type": "code",
      "execution_count": null,
      "metadata": {
        "id": "H-cJ6aOPduYL"
      },
      "outputs": [],
      "source": [
        "n1 = int(input(\"Insira n1: \"))\n",
        "n2 = 10\n",
        "lista = [n1, n2]\n",
        "contador = 0\n",
        "for x in lista:\n",
        "  contador = x\n",
        "  while contador < (n2): \n",
        "    contador = contador+1\n",
        "    print(str(n1) + \"x\" + str(contador) + \" = \" + str(n1*(contador)))"
      ]
    },
    {
      "cell_type": "markdown",
      "metadata": {
        "id": "padY2nzOduYL"
      },
      "source": [
        "---\n",
        "\n",
        "## Quais são as outras formas de praticar esses conceitos?\n",
        "\n",
        "<img src=\"https://media.giphy.com/media/3gPLPJzFi8a3vhLTtw/giphy.gif\" align=\"left\">"
      ]
    },
    {
      "cell_type": "markdown",
      "metadata": {
        "id": "pPE5M5KmduYL"
      },
      "source": [
        "<Adicionar atividade de sua preferência para aplicação dos conceitos>"
      ]
    }
  ],
  "metadata": {
    "kernelspec": {
      "display_name": "Python 3",
      "language": "python",
      "name": "python3"
    },
    "language_info": {
      "codemirror_mode": {
        "name": "ipython",
        "version": 3
      },
      "file_extension": ".py",
      "mimetype": "text/x-python",
      "name": "python",
      "nbconvert_exporter": "python",
      "pygments_lexer": "ipython3",
      "version": "3.8.5"
    },
    "colab": {
      "provenance": []
    }
  },
  "nbformat": 4,
  "nbformat_minor": 0
}