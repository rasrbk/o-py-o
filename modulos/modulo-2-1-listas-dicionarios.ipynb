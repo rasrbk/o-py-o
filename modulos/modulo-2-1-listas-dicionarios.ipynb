{
  "cells": [
    {
      "cell_type": "markdown",
      "metadata": {
        "id": "YI2z0Gecpxix"
      },
      "source": [
        "<img src=\"https://github.com/rasrbk/o-py-o/blob/master/imagens/5.png?raw=1\">\n",
        "\n",
        "## Revisando o conteúdo da semana!"
      ]
    },
    {
      "cell_type": "markdown",
      "metadata": {
        "id": "iub6di0xpxiz"
      },
      "source": [
        "1) Faça um programa que inicialize uma lista vazia e solicite a usuária 3 nomes de cidades, um por vez, cada vez que a usuária digitar um nome, o programa deve incluir este nome na lista de cidades."
      ]
    },
    {
      "cell_type": "code",
      "execution_count": 8,
      "metadata": {
        "id": "_dMV5UuKpxiz",
        "outputId": "2990b22f-d1f8-45e2-80eb-b790960e46da",
        "colab": {
          "base_uri": "https://localhost:8080/"
        }
      },
      "outputs": [
        {
          "output_type": "stream",
          "name": "stdout",
          "text": [
            "nome: ana\n",
            "nome: bia\n",
            "nome: lu\n",
            "[['ana'], ['bia'], ['lu']]\n"
          ]
        }
      ],
      "source": [
        "n1 = [input(\"cidade: \")]\n",
        "n2 = [input(\"cidade: \")]\n",
        "n3 = [input(\"cidade: \")]\n",
        "lst = [n1, n2, n3]\n",
        "  \n",
        "print(lst)"
      ]
    },
    {
      "cell_type": "markdown",
      "metadata": {
        "id": "q4el6URNpxi0"
      },
      "source": [
        "2) Faça um programa que inicialize uma lista com vários números diferentes, depois disso, solicite ao usuário um número, verifique se o número está ou não na lista e exiba uma mensagem notificando o usuário do resultado."
      ]
    },
    {
      "cell_type": "code",
      "execution_count": null,
      "metadata": {
        "id": "0HFaKrFEpxi1"
      },
      "outputs": [],
      "source": [
        "lista = [1, 2, 3, 4, 5]\n",
        "a = int(input(\"Number: \"))\n",
        "if a in lista:\n",
        "  print(\"yey\")\n",
        "else:\n",
        "  print(\"awn\")"
      ]
    },
    {
      "cell_type": "markdown",
      "metadata": {
        "id": "yz0OKSKWpxi1"
      },
      "source": [
        "3) Escreva uma função chamada `has_duplicates` que receba uma lista e retorne **True** se houver algum elemento que apareça mais de uma vez. Ela não deve modificar a lista original."
      ]
    },
    {
      "cell_type": "code",
      "execution_count": 1,
      "metadata": {
        "id": "rjlkS6Mcpxi1",
        "outputId": "c6523355-5671-4b1c-ba88-4f01be10a0b1",
        "colab": {
          "base_uri": "https://localhost:8080/"
        }
      },
      "outputs": [
        {
          "output_type": "stream",
          "name": "stdout",
          "text": [
            "I found a duplicate\n"
          ]
        }
      ],
      "source": [
        "lista = [1, 3, 5, 9, 9, 9]\n",
        "f = False\n",
        "for x in range(0,len(lista)):\n",
        "  for y in range(x+1,len(lista)):\n",
        "    if lista[x] == lista[y]:\n",
        "      f = True\n",
        "if f:\n",
        "  print(\"I found a duplicate\")\n",
        "else:\n",
        "  print(\"I didnt find anything\")"
      ]
    },
    {
      "cell_type": "markdown",
      "metadata": {
        "id": "yYlPETjEpxi1"
      },
      "source": [
        "4 - Escreva um programa para armazenar uma agenda de telefones em um dicionário. Cada pessoa pode ter um ou mais telefones e a chave do dicionário é o nome da pessoa. Seu programa deve ter as seguintes funções:\n",
        "\n",
        "- incluir_novo_nome – essa função acrescenta um novo nome na agenda, com um ou mais telefones. Ela deve receber como argumentos o nome e os telefones. ­\n",
        "- incluir_telefone – essa função acrescenta um telefone em um nome existente na agenda. Caso o nome não exista na agenda, você deve perguntar se a pessoa deseja incluí-­lo. Caso a resposta seja afirmativa, use a função anterior para incluir o novo nome. \n",
        "- excluir_telefone – essa função exclui um telefone de uma pessoa que já está na agenda. Se a pessoa tiver apenas um telefone, ela deve ser excluída da agenda. ­\n",
        "- excluir_nome – essa função exclui uma pessoa da agenda. ­\n",
        "- consultar_telefone – essa função retorna os telefones de uma pessoa na agenda."
      ]
    },
    {
      "cell_type": "code",
      "execution_count": null,
      "metadata": {
        "id": "AHCI7ooupxi2"
      },
      "outputs": [],
      "source": []
    },
    {
      "cell_type": "markdown",
      "metadata": {
        "id": "1AdnA7XMpxi2"
      },
      "source": [
        "---\n",
        "\n",
        "## Quais são as outras formas de praticar esses conceitos?\n",
        "\n",
        "<img src=\"https://media.giphy.com/media/0AA2LiChVmvxt8v1HB/giphy.gif\" align=\"left\">"
      ]
    },
    {
      "cell_type": "markdown",
      "metadata": {
        "id": "DRBVNjLKpxi3"
      },
      "source": [
        "<Adicionar atividade de sua preferência para aplicação dos conceitos>"
      ]
    }
  ],
  "metadata": {
    "kernelspec": {
      "display_name": "Python 3",
      "language": "python",
      "name": "python3"
    },
    "language_info": {
      "codemirror_mode": {
        "name": "ipython",
        "version": 3
      },
      "file_extension": ".py",
      "mimetype": "text/x-python",
      "name": "python",
      "nbconvert_exporter": "python",
      "pygments_lexer": "ipython3",
      "version": "3.8.5"
    },
    "colab": {
      "provenance": []
    }
  },
  "nbformat": 4,
  "nbformat_minor": 0
}